## Exploratory Data Analysis

# Sample code for EDA using pandas and matplotlib