## Machine Learning Basics

# Sample scikit-learn model